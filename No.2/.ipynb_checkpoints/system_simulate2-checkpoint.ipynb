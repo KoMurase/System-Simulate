{
 "cells": [
  {
   "cell_type": "code",
   "execution_count": 15,
   "metadata": {
    "collapsed": true
   },
   "outputs": [],
   "source": [
    "import math\n",
    "width_river=130.0\n",
    "dis_horizon_AB=310.0\n",
    "dis_horizon_Ariv=40.0\n",
    "v_riv=[0.8,4.0]#川の流れ\n",
    "v_peo=[1.11,7.0]#武君の速度[徒歩,静水]"
   ]
  },
  {
   "cell_type": "code",
   "execution_count": 16,
   "metadata": {},
   "outputs": [
    {
     "data": {
      "text/plain": [
       "9.999999999999998"
      ]
     },
     "execution_count": 16,
     "metadata": {},
     "output_type": "execute_result"
    }
   ],
   "source": [
    "11.1/v_peo[0]"
   ]
  },
  {
   "cell_type": "code",
   "execution_count": 45,
   "metadata": {},
   "outputs": [],
   "source": [
    "def across_the_river(y):\n",
    "    #水平方向のBとP地点の距離を求める\n",
    "    y_BP=310-y #水平方向のB,Pの距離\n",
    "    #流れがない時の速度のy成分,x成分を求める\n",
    "\n",
    "    BP=math.sqrt(y_BP*y_BP+130*130)#BPの直線距離\n",
    "    v_peo_x=v_peo[1]*(130/BP)\n",
    "    v_peo_y=v_peo[1]*(y_BP/BP)\n",
    "    \n",
    "    #流れを加味したy成分を求める\n",
    "    v_peo_y=v_peo_y-v_riv[0]\n",
    "    \n",
    "    #流れを加味した新たな速度を求める\n",
    "    v_peo_new=math.sqrt(v_peo_y*v_peo_y+v_peo_x*v_peo_x)\n",
    "\n",
    "    #新しい速度をx,yに分解する\n",
    "    v_peo_x_new=v_peo_new*(130/BP)\n",
    "    v_peo_y_new=v_peo_new*(y_BP/BP)\n",
    "\n",
    "    #時間を計算する\n",
    "    time=width_river/v_peo_x_new\n",
    "    y_reach_point=time*v_peo_y_new\n",
    "    \n",
    "   # print(y_reach_point)\n",
    "    result=y_reach_point-(310.0-y)\n",
    "    if abs(result<0.0001):\n",
    "        print(\"結果が出ました\")\n",
    "        print(\"かかった時間:\"+str(time))"
   ]
  },
  {
   "cell_type": "code",
   "execution_count": 46,
   "metadata": {},
   "outputs": [
    {
     "name": "stdout",
     "output_type": "stream",
     "text": [
      "結果が出ました\n",
      "かかった時間:53.61269638958008\n"
     ]
    }
   ],
   "source": [
    "across_the_river(0.01)"
   ]
  },
  {
   "cell_type": "code",
   "execution_count": 48,
   "metadata": {},
   "outputs": [
    {
     "ename": "SyntaxError",
     "evalue": "invalid syntax (<ipython-input-48-eafa0676c909>, line 2)",
     "output_type": "error",
     "traceback": [
      "\u001b[1;36m  File \u001b[1;32m\"<ipython-input-48-eafa0676c909>\"\u001b[1;36m, line \u001b[1;32m2\u001b[0m\n\u001b[1;33m    result[]=across_the_river(0.01*i)\u001b[0m\n\u001b[1;37m           ^\u001b[0m\n\u001b[1;31mSyntaxError\u001b[0m\u001b[1;31m:\u001b[0m invalid syntax\n"
     ]
    }
   ],
   "source": [
    "for i in range(100000):\n",
    "    result =across_the_river(0.01*i)"
   ]
  },
  {
   "cell_type": "code",
   "execution_count": null,
   "metadata": {
    "collapsed": true
   },
   "outputs": [],
   "source": []
  }
 ],
 "metadata": {
  "kernelspec": {
   "display_name": "Python 3",
   "language": "python",
   "name": "python3"
  },
  "language_info": {
   "codemirror_mode": {
    "name": "ipython",
    "version": 3
   },
   "file_extension": ".py",
   "mimetype": "text/x-python",
   "name": "python",
   "nbconvert_exporter": "python",
   "pygments_lexer": "ipython3",
   "version": "3.6.3"
  }
 },
 "nbformat": 4,
 "nbformat_minor": 2
}
