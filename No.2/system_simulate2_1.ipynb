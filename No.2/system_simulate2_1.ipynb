{
 "cells": [
  {
   "cell_type": "code",
   "execution_count": 72,
   "metadata": {
    "collapsed": true
   },
   "outputs": [],
   "source": [
    "import math\n",
    "import numpy as np\n",
    "width_river=130.0\n",
    "AB=310.0\n",
    "dis_A_riv=40.0#Aから川までの垂直距離\n",
    "v_riv=[0.8,4.0]#川の流れ\n",
    "v_peo=[1.11,7.0]#武君の速度[徒歩,静水]"
   ]
  },
  {
   "cell_type": "code",
   "execution_count": 106,
   "metadata": {},
   "outputs": [],
   "source": [
    "theta=0#皮を渡るときの角度(θ)\n",
    "walk_time_data=[]#歩いた時間のデータ\n",
    "acrs_riv_time_data=[]#川を渡った時間のデータ\n",
    "for i in range(1576):\n",
    "    #先に船で渡る時間とその時進んだ時間を計算する\n",
    "    theta=i*0.001\n",
    "    v_x=v_peo[1]*math.cos(theta)#速度をx成分に分解したとき\n",
    "    v_y=v_peo[1]*math.sin(theta)#速度をy成分に分解したとき\n",
    "    v_y=v_y-v_riv[1]\n",
    "    acrs_time=width_river/v_x#横切る時間\n",
    "    acrs_riv_time_data.append(acrs_time)\n",
    "    dis_y=v_y*acrs_time#船で縦に進んだ距離\n",
    "    dis_y=AB-dis_y#残りの距離\n",
    "    \n",
    "    #歩いて進めべき時間を計算する\n",
    "    dis_walk=math.sqrt(dis_y**2+dis_A_riv**2)#歩く距離\n",
    "    walk_time=dis_walk/v_peo[0]\n",
    "    walk_time_data.append(walk_time)\n",
    "    \n",
    "    #dis_acrs_riv=math.sqrt((AB-start)**2+width_river**2)\n",
    "    #acrs_time=dis_acrs_riv/v_peo[1]\n",
    "    #acrs_riv_time_data.append(acrs_time)\n",
    "\n",
    "    "
   ]
  },
  {
   "cell_type": "code",
   "execution_count": 107,
   "metadata": {},
   "outputs": [
    {
     "name": "stdout",
     "output_type": "stream",
     "text": [
      "1576\n",
      "1576\n"
     ]
    }
   ],
   "source": [
    "print(len(walk_time_data))\n",
    "print(len(acrs_riv_time_data))"
   ]
  },
  {
   "cell_type": "code",
   "execution_count": 108,
   "metadata": {
    "collapsed": true
   },
   "outputs": [],
   "source": [
    "arr_walk_time=np.array(walk_time_data)\n",
    "\n",
    "arr_acrs_riv_time=np.array(acrs_riv_time_data)"
   ]
  },
  {
   "cell_type": "code",
   "execution_count": 109,
   "metadata": {},
   "outputs": [
    {
     "name": "stdout",
     "output_type": "stream",
     "text": [
      "[   348.07377496    347.95732065    347.84093308 ...,  23056.19029736\n",
      "  15946.50320217  12219.4050116 ]\n"
     ]
    }
   ],
   "source": [
    "print(arr_walk_time)"
   ]
  },
  {
   "cell_type": "code",
   "execution_count": 110,
   "metadata": {},
   "outputs": [
    {
     "name": "stdout",
     "output_type": "stream",
     "text": [
      "[   18.57142857    18.57143786    18.57146571 ..., -8427.49440318\n",
      " -5796.92719904 -4417.91794009]\n"
     ]
    }
   ],
   "source": [
    "print(arr_acrs_riv_time)"
   ]
  },
  {
   "cell_type": "code",
   "execution_count": 111,
   "metadata": {},
   "outputs": [
    {
     "name": "stdout",
     "output_type": "stream",
     "text": [
      "[   366.64520353    366.5287585     366.4123988  ...,  14628.69589418\n",
      "  10149.57600313   7801.48707152]\n"
     ]
    }
   ],
   "source": [
    "print(arr_walk_time+arr_acrs_riv_time)"
   ]
  },
  {
   "cell_type": "code",
   "execution_count": 112,
   "metadata": {
    "collapsed": true
   },
   "outputs": [],
   "source": [
    "min=np.min(arr_walk_time+arr_acrs_riv_time)"
   ]
  },
  {
   "cell_type": "code",
   "execution_count": 105,
   "metadata": {},
   "outputs": [
    {
     "data": {
      "text/plain": [
       "140.78595271022306"
      ]
     },
     "execution_count": 105,
     "metadata": {},
     "output_type": "execute_result"
    }
   ],
   "source": [
    "min"
   ]
  },
  {
   "cell_type": "code",
   "execution_count": null,
   "metadata": {
    "collapsed": true
   },
   "outputs": [],
   "source": []
  }
 ],
 "metadata": {
  "kernelspec": {
   "display_name": "Python 3",
   "language": "python",
   "name": "python3"
  },
  "language_info": {
   "codemirror_mode": {
    "name": "ipython",
    "version": 3
   },
   "file_extension": ".py",
   "mimetype": "text/x-python",
   "name": "python",
   "nbconvert_exporter": "python",
   "pygments_lexer": "ipython3",
   "version": "3.6.3"
  }
 },
 "nbformat": 4,
 "nbformat_minor": 2
}
