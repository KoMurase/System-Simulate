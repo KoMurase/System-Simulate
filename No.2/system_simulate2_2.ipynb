{
 "cells": [
  {
   "cell_type": "code",
   "execution_count": 1,
   "metadata": {
    "collapsed": true
   },
   "outputs": [],
   "source": [
    "import math\n",
    "import numpy as np\n",
    "width_river=130.0\n",
    "AB=310.0\n",
    "dis_A_riv=40.0\n",
    "v_riv=[0.8,4.0]#川の流れ\n",
    "v_peo=[1.11,7.0]#武君の速度[徒歩,静水]"
   ]
  },
  {
   "cell_type": "code",
   "execution_count": null,
   "metadata": {
    "collapsed": true
   },
   "outputs": [],
   "source": [
    "=0#渡り始めるところ\n",
    "walk_time_data=[]#川を渡った時間のデータ\n",
    "acrs_riv_time_data=[]#歩いた時間のデータ\n",
    "for i in range(1500):\n",
    "    start+=i*0.01\n",
    "    dis_walk=math.sqrt(start**2+40**2)\n",
    "    walk_time=dis_walk/v_peo[0]\n",
    "    walk_time_data.append(walk_time)\n",
    "    \n",
    "    dis_acrs_riv=math.sqrt((AB-start)**2+width_river**2)\n",
    "    acrs_time=dis_acrs_riv/v_peo[1]\n",
    "    acrs_riv_time_data.append(acrs_time)"
   ]
  }
 ],
 "metadata": {
  "kernelspec": {
   "display_name": "Python 3",
   "language": "python",
   "name": "python3"
  },
  "language_info": {
   "codemirror_mode": {
    "name": "ipython",
    "version": 3
   },
   "file_extension": ".py",
   "mimetype": "text/x-python",
   "name": "python",
   "nbconvert_exporter": "python",
   "pygments_lexer": "ipython3",
   "version": "3.6.3"
  }
 },
 "nbformat": 4,
 "nbformat_minor": 2
}
