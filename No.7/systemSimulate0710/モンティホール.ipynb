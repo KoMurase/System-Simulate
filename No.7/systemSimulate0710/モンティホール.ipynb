{
 "cells": [
  {
   "cell_type": "code",
   "execution_count": 6,
   "metadata": {},
   "outputs": [],
   "source": [
    "import sys\n",
    "import numpy as np\n",
    "import matplotlib.pyplot as plt\n",
    "from matplotlib import font_manager\n",
    "from random import choice\n",
    "\n",
    "def montyhall(N, doors):\n",
    "    \"\"\" モンティ・ホール問題を解いて勝利したかどうかのベクトルを返す \"\"\"\n",
    "    # 試行回数と同じ長さのベクトルを用意する\n",
    "    arr_picked = np.zeros(N)\n",
    "    arr_switch = np.zeros(N)\n",
    "\n",
    "    for i in range(N):\n",
    "        car = choice(doors) # 車が入っているドアをランダムに決める\n",
    "        picked = choice(doors) # 正解だと思うドアを選ぶ\n",
    "\n",
    "        # 司会者がヤギの入ったドアをオープンする\n",
    "        goat = choice(list(set(doors) - set([picked, car])))\n",
    "\n",
    "        # 選びなおす\n",
    "        switch = choice(list(set(doors) - set([picked, goat])))\n",
    "\n",
    "        # それぞれのベクトルの該当の位置に正解かどうかの結果を格納する\n",
    "        if picked == car:\n",
    "            arr_picked[i] = 1 # 選びなおさなかった場合に正解なら 1\n",
    "        if switch == car:\n",
    "            arr_switch[i] = 1 # 選びなおした場合に正解なら 1\n",
    "\n",
    "    # 2 つのベクトルを返却する\n",
    "    return (arr_picked, arr_switch)\n",
    "\n",
    "def plot(N, arr_picked, arr_switch):\n",
    "    \"\"\" 結果をプロットする \"\"\"\n",
    "    \"\"\"\n",
    "    # フォントを環境にあわせて指定しておくと便利\n",
    "    if sys.platform == \"darwin\":\n",
    "        font_path = \"/Library/Fonts/Osaka.ttf\"\n",
    "    else:\n",
    "        font_path = \"/usr/share/fonts/truetype/fonts-japanese-gothic.ttf\"\n",
    "    prop = font_manager.FontProperties(fname=font_path)\n",
    "    \"\"\"\n",
    "    fig = plt.figure()\n",
    "    ax = fig.add_subplot(1, 1, 1)\n",
    "\n",
    "    X = np.arange(N) + 1 # 試行回数を X 軸に持ってくる\n",
    "    picked_car = arr_picked.cumsum() # 累積正解数を求める\n",
    "    switch_car = arr_switch.cumsum()\n",
    "\n",
    "    ax.plot(X, picked_car, label='picked up')\n",
    "    ax.plot(X, switch_car, label='switched car')\n",
    "    ax.set_title('モンティホール問題の通算当たり回数')\n",
    "    ax.legend(loc='best')\n",
    "    plt.savefig('image.png')\n",
    "\n",
    "def main():\n",
    "    N = 10000 # 10000 回シミュレーションする\n",
    "    doors = np.array([1, 2, 3, 4, 5])\n",
    "\n",
    "    # モンティホール問題を解く\n",
    "    (arr_picked, arr_switch) = montyhall(N, doors)\n",
    "    # 結果をプロットする\n",
    "    plot(N, arr_picked, arr_switch)\n",
    "\n",
    "    # 累計勝利数を算出する\n",
    "    win_picked = arr_picked.sum()\n",
    "    win_switch = arr_switch.sum()\n",
    "\n",
    "    print(\"ドアを変更しなかった場合: %f %% (%d)\" %\n",
    "          (100.0 * win_picked / N, win_picked))\n",
    "    print(\"ドアを変更した場合:      %f %% (%d)\" %\n",
    "          (100.0 * win_switch / N, win_switch))\n",
    "\n",
    "if __name__ == '__main__':\n",
    "    main()"
   ]
  },
  {
   "cell_type": "code",
   "execution_count": 8,
   "metadata": {},
   "outputs": [
    {
     "name": "stdout",
     "output_type": "stream",
     "text": [
      "ドアを変更しなかった場合: 20.580000 % (2058)\n",
      "ドアを変更した場合:      25.590000 % (2559)\n"
     ]
    },
    {
     "ename": "NameError",
     "evalue": "name 'N' is not defined",
     "output_type": "error",
     "traceback": [
      "\u001b[1;31m---------------------------------------------------------------------------\u001b[0m",
      "\u001b[1;31mNameError\u001b[0m                                 Traceback (most recent call last)",
      "\u001b[1;32m<ipython-input-8-1b6ed014929a>\u001b[0m in \u001b[0;36m<module>\u001b[1;34m()\u001b[0m\n\u001b[0;32m      1\u001b[0m \u001b[0mmain\u001b[0m\u001b[1;33m(\u001b[0m\u001b[1;33m)\u001b[0m\u001b[1;33m\u001b[0m\u001b[0m\n\u001b[1;32m----> 2\u001b[1;33m \u001b[0mplot\u001b[0m\u001b[1;33m(\u001b[0m\u001b[0mN\u001b[0m\u001b[1;33m,\u001b[0m \u001b[0marr_picked\u001b[0m\u001b[1;33m,\u001b[0m \u001b[0marr_switch\u001b[0m\u001b[1;33m)\u001b[0m\u001b[1;33m\u001b[0m\u001b[0m\n\u001b[0m",
      "\u001b[1;31mNameError\u001b[0m: name 'N' is not defined"
     ]
    }
   ],
   "source": [
    "main()\n"
   ]
  },
  {
   "cell_type": "code",
   "execution_count": null,
   "metadata": {
    "collapsed": true
   },
   "outputs": [],
   "source": []
  }
 ],
 "metadata": {
  "kernelspec": {
   "display_name": "Python 3",
   "language": "python",
   "name": "python3"
  },
  "language_info": {
   "codemirror_mode": {
    "name": "ipython",
    "version": 3
   },
   "file_extension": ".py",
   "mimetype": "text/x-python",
   "name": "python",
   "nbconvert_exporter": "python",
   "pygments_lexer": "ipython3",
   "version": "3.6.3"
  }
 },
 "nbformat": 4,
 "nbformat_minor": 2
}
